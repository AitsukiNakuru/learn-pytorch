{
 "cells": [
  {
   "cell_type": "code",
   "execution_count": null,
   "outputs": [],
   "source": [
    "import torch\n",
    "from torch import nn\n",
    "from torch.utils.data import DataLoader\n",
    "from torchvision import datasets\n",
    "from torchvision.transforms import ToTensor\n",
    "\n",
    "training_data = datasets.FashionMNIST(\n",
    "    root=\"data\",\n",
    "    train=True,\n",
    "    download=True,\n",
    "    transform=ToTensor()\n",
    ")\n",
    "\n",
    "test_data = datasets.FashionMNIST(\n",
    "    root=\"data\",\n",
    "    train=False,\n",
    "    download=True,\n",
    "    transform=ToTensor()\n",
    ")\n",
    "\n",
    "train_dataloader = DataLoader(training_data, batch_size=64)\n",
    "test_dataloader = DataLoader(test_data, batch_size=64)\n",
    "\n",
    "class NeuralNetwork(nn.Module):\n",
    "    def __init__(self):\n",
    "        super(NeuralNetwork, self).__init__()\n",
    "        self.flatten = nn.Flatten()\n",
    "        self.linear_relu_stack = nn.Sequential(\n",
    "            nn.Linear(28*28, 512),\n",
    "            nn.ReLU(),\n",
    "            nn.Linear(512, 512),\n",
    "            nn.ReLU(),\n",
    "            nn.Linear(512, 10),\n",
    "        )\n",
    "\n",
    "    def forward(self, x):\n",
    "        x = self.flatten(x)\n",
    "        logits = self.linear_relu_stack(x)\n",
    "        return logits\n",
    "\n",
    "model = NeuralNetwork()"
   ],
   "metadata": {
    "collapsed": false
   }
  },
  {
   "cell_type": "code",
   "execution_count": 13,
   "outputs": [
    {
     "name": "stdout",
     "output_type": "stream",
     "text": [
      "5\n"
     ]
    }
   ],
   "source": [
    "learning_rate = 1e-3\n",
    "batch_size = 64\n",
    "epochs = 5"
   ],
   "metadata": {
    "collapsed": false,
    "ExecuteTime": {
     "start_time": "2023-04-18T18:56:33.302662Z",
     "end_time": "2023-04-18T18:56:33.314320Z"
    }
   }
  },
  {
   "cell_type": "code",
   "execution_count": 11,
   "outputs": [],
   "source": [
    "loss_fn = nn.CrossEntropyLoss()"
   ],
   "metadata": {
    "collapsed": false,
    "ExecuteTime": {
     "start_time": "2023-04-18T18:55:58.171237Z",
     "end_time": "2023-04-18T18:55:58.173757Z"
    }
   }
  },
  {
   "cell_type": "code",
   "execution_count": 12,
   "outputs": [],
   "source": [
    "optimizer = torch.optim.SGD(model.parameters(), lr=learning_rate)"
   ],
   "metadata": {
    "collapsed": false,
    "ExecuteTime": {
     "start_time": "2023-04-18T18:55:58.176758Z",
     "end_time": "2023-04-18T18:55:58.181836Z"
    }
   }
  },
  {
   "cell_type": "code",
   "execution_count": 14,
   "outputs": [],
   "source": [
    "def train_loop(dataloader, model, loss_fn, optimizer):\n",
    "    size = len(dataloader.dataset)\n",
    "    for batch, (X, y) in enumerate(dataloader):\n",
    "        pred = model(X)\n",
    "        loss = loss_fn(pred, y)\n",
    "\n",
    "        optimizer.zero_grad()\n",
    "        loss.backward()\n",
    "        optimizer.step()\n",
    "\n",
    "        if batch % 100 == 0:\n",
    "            loss, current = loss.item(), (batch + 1) * len(X)\n",
    "            print(f\"loss: {loss:>7f} [{current:5>d}/{size:>5d}]\")\n",
    "\n",
    "def test_loop(dataloader, model, loss_fn):\n",
    "    size = len(dataloader.dataset)\n",
    "    num_batches = len(dataloader)\n",
    "    test_loss, correct = 0, 0\n",
    "\n",
    "    with torch.no_grad():\n",
    "        for X, y in dataloader:\n",
    "            pred = model(X)\n",
    "            test_loss += loss_fn(pred, y).item()\n",
    "            correct += (pred.argmax(1) == y).type(torch.float).sum().item()\n",
    "\n",
    "    test_loss /= num_batches\n",
    "    correct /= size\n",
    "    print(f\"Test Error: \\n Accuracy: {(100*correct):>0.1f}%, Avg loss: {test_loss:>8f} \\n\")"
   ],
   "metadata": {
    "collapsed": false,
    "ExecuteTime": {
     "start_time": "2023-04-18T19:08:23.647922Z",
     "end_time": "2023-04-18T19:08:23.672883Z"
    }
   }
  },
  {
   "cell_type": "code",
   "execution_count": 16,
   "outputs": [
    {
     "name": "stdout",
     "output_type": "stream",
     "text": [
      "Epoch 1\n",
      "-------------------------------\n",
      "loss: 2.318388 [64/60000]\n",
      "loss: 2.298806 [6464/60000]\n",
      "loss: 2.277015 [12864/60000]\n",
      "loss: 2.254657 [19264/60000]\n",
      "loss: 2.266667 [25664/60000]\n",
      "loss: 2.230241 [32064/60000]\n",
      "loss: 2.240856 [38464/60000]\n",
      "loss: 2.215366 [44864/60000]\n",
      "loss: 2.212386 [51264/60000]\n",
      "loss: 2.176082 [57664/60000]\n",
      "Test Error: \n",
      " Accuracy: 33.2%, Avg loss: 2.171273 \n",
      "\n",
      "Epoch 2\n",
      "-------------------------------\n",
      "loss: 2.193999 [64/60000]\n",
      "loss: 2.178987 [6464/60000]\n",
      "loss: 2.121591 [12864/60000]\n",
      "loss: 2.120159 [19264/60000]\n",
      "loss: 2.093940 [25664/60000]\n",
      "loss: 2.033599 [32064/60000]\n",
      "loss: 2.063856 [38464/60000]\n",
      "loss: 1.995660 [44864/60000]\n",
      "loss: 2.008031 [51264/60000]\n",
      "loss: 1.930108 [57664/60000]\n",
      "Test Error: \n",
      " Accuracy: 52.7%, Avg loss: 1.922938 \n",
      "\n",
      "Epoch 3\n",
      "-------------------------------\n",
      "loss: 1.967942 [64/60000]\n",
      "loss: 1.936658 [6464/60000]\n",
      "loss: 1.817137 [12864/60000]\n",
      "loss: 1.839902 [19264/60000]\n",
      "loss: 1.752019 [25664/60000]\n",
      "loss: 1.700784 [32064/60000]\n",
      "loss: 1.726399 [38464/60000]\n",
      "loss: 1.631134 [44864/60000]\n",
      "loss: 1.668222 [51264/60000]\n",
      "loss: 1.555314 [57664/60000]\n",
      "Test Error: \n",
      " Accuracy: 58.9%, Avg loss: 1.560172 \n",
      "\n",
      "Epoch 4\n",
      "-------------------------------\n",
      "loss: 1.639748 [64/60000]\n",
      "loss: 1.600326 [6464/60000]\n",
      "loss: 1.442997 [12864/60000]\n",
      "loss: 1.494509 [19264/60000]\n",
      "loss: 1.397385 [25664/60000]\n",
      "loss: 1.386975 [32064/60000]\n",
      "loss: 1.401983 [38464/60000]\n",
      "loss: 1.330628 [44864/60000]\n",
      "loss: 1.370712 [51264/60000]\n",
      "loss: 1.262402 [57664/60000]\n",
      "Test Error: \n",
      " Accuracy: 62.9%, Avg loss: 1.280953 \n",
      "\n",
      "Epoch 5\n",
      "-------------------------------\n",
      "loss: 1.369829 [64/60000]\n",
      "loss: 1.349047 [6464/60000]\n",
      "loss: 1.175154 [12864/60000]\n",
      "loss: 1.258466 [19264/60000]\n",
      "loss: 1.157646 [25664/60000]\n",
      "loss: 1.178077 [32064/60000]\n",
      "loss: 1.196926 [38464/60000]\n",
      "loss: 1.142441 [44864/60000]\n",
      "loss: 1.180547 [51264/60000]\n",
      "loss: 1.087680 [57664/60000]\n",
      "Test Error: \n",
      " Accuracy: 64.5%, Avg loss: 1.106161 \n",
      "\n",
      "Epoch 6\n",
      "-------------------------------\n",
      "loss: 1.185386 [64/60000]\n",
      "loss: 1.189211 [6464/60000]\n",
      "loss: 0.998878 [12864/60000]\n",
      "loss: 1.113005 [19264/60000]\n",
      "loss: 1.008795 [25664/60000]\n",
      "loss: 1.037512 [32064/60000]\n",
      "loss: 1.070268 [38464/60000]\n",
      "loss: 1.023717 [44864/60000]\n",
      "loss: 1.059051 [51264/60000]\n",
      "loss: 0.977521 [57664/60000]\n",
      "Test Error: \n",
      " Accuracy: 65.7%, Avg loss: 0.994089 \n",
      "\n",
      "Epoch 7\n",
      "-------------------------------\n",
      "loss: 1.058352 [64/60000]\n",
      "loss: 1.085767 [6464/60000]\n",
      "loss: 0.879013 [12864/60000]\n",
      "loss: 1.017582 [19264/60000]\n",
      "loss: 0.915797 [25664/60000]\n",
      "loss: 0.938272 [32064/60000]\n",
      "loss: 0.987340 [38464/60000]\n",
      "loss: 0.946246 [44864/60000]\n",
      "loss: 0.976112 [51264/60000]\n",
      "loss: 0.903954 [57664/60000]\n",
      "Test Error: \n",
      " Accuracy: 67.0%, Avg loss: 0.917895 \n",
      "\n",
      "Epoch 8\n",
      "-------------------------------\n",
      "loss: 0.965821 [64/60000]\n",
      "loss: 1.013915 [6464/60000]\n",
      "loss: 0.793390 [12864/60000]\n",
      "loss: 0.950743 [19264/60000]\n",
      "loss: 0.854435 [25664/60000]\n",
      "loss: 0.865282 [32064/60000]\n",
      "loss: 0.929254 [38464/60000]\n",
      "loss: 0.893917 [44864/60000]\n",
      "loss: 0.916831 [51264/60000]\n",
      "loss: 0.851505 [57664/60000]\n",
      "Test Error: \n",
      " Accuracy: 68.1%, Avg loss: 0.863204 \n",
      "\n",
      "Epoch 9\n",
      "-------------------------------\n",
      "loss: 0.895410 [64/60000]\n",
      "loss: 0.960265 [6464/60000]\n",
      "loss: 0.729918 [12864/60000]\n",
      "loss: 0.901233 [19264/60000]\n",
      "loss: 0.811212 [25664/60000]\n",
      "loss: 0.810463 [32064/60000]\n",
      "loss: 0.886042 [38464/60000]\n",
      "loss: 0.857533 [44864/60000]\n",
      "loss: 0.873171 [51264/60000]\n",
      "loss: 0.811809 [57664/60000]\n",
      "Test Error: \n",
      " Accuracy: 69.4%, Avg loss: 0.822075 \n",
      "\n",
      "Epoch 10\n",
      "-------------------------------\n",
      "loss: 0.840107 [64/60000]\n",
      "loss: 0.917506 [6464/60000]\n",
      "loss: 0.681306 [12864/60000]\n",
      "loss: 0.863229 [19264/60000]\n",
      "loss: 0.778670 [25664/60000]\n",
      "loss: 0.768649 [32064/60000]\n",
      "loss: 0.851881 [38464/60000]\n",
      "loss: 0.830959 [44864/60000]\n",
      "loss: 0.839864 [51264/60000]\n",
      "loss: 0.780517 [57664/60000]\n",
      "Test Error: \n",
      " Accuracy: 70.7%, Avg loss: 0.789704 \n",
      "\n",
      "Done!\n"
     ]
    }
   ],
   "source": [
    "loss_fn = nn.CrossEntropyLoss()\n",
    "optimizer = torch.optim.SGD(model.parameters(), lr=learning_rate)\n",
    "epochs = 10\n",
    "for t in range(epochs):\n",
    "    print(f\"Epoch {t+1}\\n-------------------------------\")\n",
    "    train_loop(train_dataloader, model, loss_fn, optimizer)\n",
    "    test_loop(test_dataloader, model, loss_fn)\n",
    "\n",
    "print(\"Done!\")"
   ],
   "metadata": {
    "collapsed": false,
    "ExecuteTime": {
     "start_time": "2023-04-18T19:10:28.230738Z",
     "end_time": "2023-04-18T19:12:35.782985Z"
    }
   }
  },
  {
   "cell_type": "code",
   "execution_count": null,
   "outputs": [],
   "source": [],
   "metadata": {
    "collapsed": false
   }
  }
 ],
 "metadata": {
  "kernelspec": {
   "display_name": "Python 3",
   "language": "python",
   "name": "python3"
  },
  "language_info": {
   "codemirror_mode": {
    "name": "ipython",
    "version": 2
   },
   "file_extension": ".py",
   "mimetype": "text/x-python",
   "name": "python",
   "nbconvert_exporter": "python",
   "pygments_lexer": "ipython2",
   "version": "2.7.6"
  }
 },
 "nbformat": 4,
 "nbformat_minor": 0
}
